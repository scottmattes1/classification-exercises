{
 "cells": [
  {
   "cell_type": "code",
   "execution_count": 69,
   "id": "b0e27b3c",
   "metadata": {},
   "outputs": [],
   "source": [
    "import pandas as pd\n",
    "from sklearn import metrics"
   ]
  },
  {
   "cell_type": "markdown",
   "id": "a6300bb9",
   "metadata": {},
   "source": [
    "## Create a new file named model_evaluation.py or model_evaluation.ipynb for these exercises.\n",
    "## Given the following confusion matrix, evaluate (by hand) the model's performance.\n",
    "\n",
    "|               | actual dog | actual cat |\n",
    "|:------------  |-----------:|-----------:|\n",
    "| pred dog      |         46 |         13 |\n",
    "| pred cat      |          7 |         34 |"
   ]
  },
  {
   "cell_type": "markdown",
   "id": "d30b54ff",
   "metadata": {},
   "source": [
    "### In the context of this problem, what is a false positive?"
   ]
  },
  {
   "cell_type": "markdown",
   "id": "57a7de05",
   "metadata": {},
   "source": [
    "A: Predicting a dog when it's actually a cat"
   ]
  },
  {
   "cell_type": "markdown",
   "id": "d029457b",
   "metadata": {},
   "source": [
    "### In the context of this problem, what is a false negative?"
   ]
  },
  {
   "cell_type": "markdown",
   "id": "c98e6efa",
   "metadata": {},
   "source": [
    "A: Predicting a cat when it's actually a dog"
   ]
  },
  {
   "cell_type": "code",
   "execution_count": 7,
   "id": "6209e213",
   "metadata": {},
   "outputs": [
    {
     "data": {
      "text/plain": [
       "0.8"
      ]
     },
     "execution_count": 7,
     "metadata": {},
     "output_type": "execute_result"
    }
   ],
   "source": [
    "#Accuracy (true predictions divided by total positive predictions)\n",
    "\n",
    "true_predictions = 46+34\n",
    "total_predictions = 100\n",
    "model_accuracy = true_predictions / total_predictions\n",
    "model_accuracy"
   ]
  },
  {
   "cell_type": "code",
   "execution_count": 10,
   "id": "4d35cfec",
   "metadata": {},
   "outputs": [
    {
     "data": {
      "text/plain": [
       "0.7796610169491526"
      ]
     },
     "execution_count": 10,
     "metadata": {},
     "output_type": "execute_result"
    }
   ],
   "source": [
    "#Precision (true positives divded by all positive predictions)\n",
    "\n",
    "true_pos = 46\n",
    "total_pos_predictions = 46 + 13\n",
    "model_precision = true_pos / total_pos_predictions\n",
    "model_precision"
   ]
  },
  {
   "cell_type": "code",
   "execution_count": 11,
   "id": "9eb696c6",
   "metadata": {},
   "outputs": [
    {
     "data": {
      "text/plain": [
       "0.8679245283018868"
      ]
     },
     "execution_count": 11,
     "metadata": {},
     "output_type": "execute_result"
    }
   ],
   "source": [
    "#Recall (true positives divided by all actual positives)\n",
    "\n",
    "total_pos_actual = 46 + 7\n",
    "model_recall = true_pos / total_pos_actual\n",
    "model_recall"
   ]
  },
  {
   "cell_type": "markdown",
   "id": "5e90eb78",
   "metadata": {},
   "source": [
    "### How would you describe this model?"
   ]
  },
  {
   "cell_type": "markdown",
   "id": "7da53464",
   "metadata": {},
   "source": [
    "This model has better recall than precision, therefore it optimizes for lower false negatives"
   ]
  },
  {
   "cell_type": "markdown",
   "id": "7f91a43e",
   "metadata": {},
   "source": [
    "### You are working as a datascientist working for Codeup Cody Creator (C3 for short), a rubber-duck manufacturing plant."
   ]
  },
  {
   "cell_type": "markdown",
   "id": "3a34ff8b",
   "metadata": {},
   "source": [
    "### Unfortunately, some of the rubber ducks that are produced will have defects. Your team has built several models that try to predict those defects, and the data from their predictions can be found here."
   ]
  },
  {
   "cell_type": "code",
   "execution_count": 13,
   "id": "dc3a31be",
   "metadata": {},
   "outputs": [],
   "source": [
    "import pandas as pd"
   ]
  },
  {
   "cell_type": "code",
   "execution_count": 15,
   "id": "51510b44",
   "metadata": {
    "scrolled": true
   },
   "outputs": [
    {
     "data": {
      "text/html": [
       "<div>\n",
       "<style scoped>\n",
       "    .dataframe tbody tr th:only-of-type {\n",
       "        vertical-align: middle;\n",
       "    }\n",
       "\n",
       "    .dataframe tbody tr th {\n",
       "        vertical-align: top;\n",
       "    }\n",
       "\n",
       "    .dataframe thead th {\n",
       "        text-align: right;\n",
       "    }\n",
       "</style>\n",
       "<table border=\"1\" class=\"dataframe\">\n",
       "  <thead>\n",
       "    <tr style=\"text-align: right;\">\n",
       "      <th></th>\n",
       "      <th>actual</th>\n",
       "      <th>model1</th>\n",
       "      <th>model2</th>\n",
       "      <th>model3</th>\n",
       "    </tr>\n",
       "  </thead>\n",
       "  <tbody>\n",
       "    <tr>\n",
       "      <th>0</th>\n",
       "      <td>No Defect</td>\n",
       "      <td>No Defect</td>\n",
       "      <td>Defect</td>\n",
       "      <td>No Defect</td>\n",
       "    </tr>\n",
       "    <tr>\n",
       "      <th>1</th>\n",
       "      <td>No Defect</td>\n",
       "      <td>No Defect</td>\n",
       "      <td>Defect</td>\n",
       "      <td>Defect</td>\n",
       "    </tr>\n",
       "    <tr>\n",
       "      <th>2</th>\n",
       "      <td>No Defect</td>\n",
       "      <td>No Defect</td>\n",
       "      <td>Defect</td>\n",
       "      <td>No Defect</td>\n",
       "    </tr>\n",
       "    <tr>\n",
       "      <th>3</th>\n",
       "      <td>No Defect</td>\n",
       "      <td>Defect</td>\n",
       "      <td>Defect</td>\n",
       "      <td>Defect</td>\n",
       "    </tr>\n",
       "    <tr>\n",
       "      <th>4</th>\n",
       "      <td>No Defect</td>\n",
       "      <td>No Defect</td>\n",
       "      <td>Defect</td>\n",
       "      <td>No Defect</td>\n",
       "    </tr>\n",
       "  </tbody>\n",
       "</table>\n",
       "</div>"
      ],
      "text/plain": [
       "      actual     model1  model2     model3\n",
       "0  No Defect  No Defect  Defect  No Defect\n",
       "1  No Defect  No Defect  Defect     Defect\n",
       "2  No Defect  No Defect  Defect  No Defect\n",
       "3  No Defect     Defect  Defect     Defect\n",
       "4  No Defect  No Defect  Defect  No Defect"
      ]
     },
     "execution_count": 15,
     "metadata": {},
     "output_type": "execute_result"
    }
   ],
   "source": [
    "defective_ducks = pd.read_csv('~/Downloads/c3.csv')\n",
    "defective_ducks.head()"
   ]
  },
  {
   "cell_type": "code",
   "execution_count": 17,
   "id": "b00bc0d0",
   "metadata": {
    "scrolled": true
   },
   "outputs": [
    {
     "data": {
      "text/plain": [
       "(200, 4)"
      ]
     },
     "execution_count": 17,
     "metadata": {},
     "output_type": "execute_result"
    }
   ],
   "source": [
    "defective_ducks.shape"
   ]
  },
  {
   "cell_type": "code",
   "execution_count": 22,
   "id": "df2b7ff6",
   "metadata": {},
   "outputs": [],
   "source": [
    "def get_baseline_model(df, target):\n",
    "    '''\n",
    "    Finds the target mode and returns a df \n",
    "    with baseline model predictions\n",
    "    '''\n",
    "    target_mode = df[target].value_counts().index[0]\n",
    "    df['model_baseline'] = target_mode   \n",
    "    return df"
   ]
  },
  {
   "cell_type": "code",
   "execution_count": 24,
   "id": "80cbff46",
   "metadata": {
    "scrolled": true
   },
   "outputs": [
    {
     "data": {
      "text/html": [
       "<div>\n",
       "<style scoped>\n",
       "    .dataframe tbody tr th:only-of-type {\n",
       "        vertical-align: middle;\n",
       "    }\n",
       "\n",
       "    .dataframe tbody tr th {\n",
       "        vertical-align: top;\n",
       "    }\n",
       "\n",
       "    .dataframe thead th {\n",
       "        text-align: right;\n",
       "    }\n",
       "</style>\n",
       "<table border=\"1\" class=\"dataframe\">\n",
       "  <thead>\n",
       "    <tr style=\"text-align: right;\">\n",
       "      <th></th>\n",
       "      <th>actual</th>\n",
       "      <th>model1</th>\n",
       "      <th>model2</th>\n",
       "      <th>model3</th>\n",
       "      <th>model_baseline</th>\n",
       "    </tr>\n",
       "  </thead>\n",
       "  <tbody>\n",
       "    <tr>\n",
       "      <th>0</th>\n",
       "      <td>No Defect</td>\n",
       "      <td>No Defect</td>\n",
       "      <td>Defect</td>\n",
       "      <td>No Defect</td>\n",
       "      <td>No Defect</td>\n",
       "    </tr>\n",
       "    <tr>\n",
       "      <th>1</th>\n",
       "      <td>No Defect</td>\n",
       "      <td>No Defect</td>\n",
       "      <td>Defect</td>\n",
       "      <td>Defect</td>\n",
       "      <td>No Defect</td>\n",
       "    </tr>\n",
       "    <tr>\n",
       "      <th>2</th>\n",
       "      <td>No Defect</td>\n",
       "      <td>No Defect</td>\n",
       "      <td>Defect</td>\n",
       "      <td>No Defect</td>\n",
       "      <td>No Defect</td>\n",
       "    </tr>\n",
       "  </tbody>\n",
       "</table>\n",
       "</div>"
      ],
      "text/plain": [
       "      actual     model1  model2     model3 model_baseline\n",
       "0  No Defect  No Defect  Defect  No Defect      No Defect\n",
       "1  No Defect  No Defect  Defect     Defect      No Defect\n",
       "2  No Defect  No Defect  Defect  No Defect      No Defect"
      ]
     },
     "execution_count": 24,
     "metadata": {},
     "output_type": "execute_result"
    }
   ],
   "source": [
    "get_baseline_model(defective_ducks, 'actual').head(3)"
   ]
  },
  {
   "cell_type": "code",
   "execution_count": 25,
   "id": "a6a53a5a",
   "metadata": {},
   "outputs": [
    {
     "data": {
      "text/plain": [
       "array(['No Defect'], dtype=object)"
      ]
     },
     "execution_count": 25,
     "metadata": {},
     "output_type": "execute_result"
    }
   ],
   "source": [
    "defective_ducks.model_baseline.unique()"
   ]
  },
  {
   "cell_type": "code",
   "execution_count": 29,
   "id": "2ab47feb",
   "metadata": {},
   "outputs": [],
   "source": [
    "con_matrix = metrics.confusion_matrix(defective_ducks['actual'], defective_ducks['model_baseline'])"
   ]
  },
  {
   "cell_type": "code",
   "execution_count": 31,
   "id": "c3861fe8",
   "metadata": {},
   "outputs": [
    {
     "data": {
      "text/plain": [
       "array([[  0,  16],\n",
       "       [  0, 184]])"
      ]
     },
     "execution_count": 31,
     "metadata": {},
     "output_type": "execute_result"
    }
   ],
   "source": [
    "con_matrix"
   ]
  },
  {
   "cell_type": "markdown",
   "id": "068e0779",
   "metadata": {},
   "source": [
    "### Use the predictions dataset and pandas to help answer the following questions:"
   ]
  },
  {
   "cell_type": "markdown",
   "id": "839bc22a",
   "metadata": {},
   "source": [
    "### An internal team wants to investigate the cause of the manufacturing defects. They tell you that they want to identify as many of the ducks that have a defect as possible. Which evaluation metric would be appropriate here? Which model would be the best fit for this use case?"
   ]
  },
  {
   "cell_type": "markdown",
   "id": "0e827d50",
   "metadata": {},
   "source": [
    "A: Since the stakeholders are primarily concerned with minimizing false negatives (the positive case being predicting a defective duck) we should optimize our model's recall)"
   ]
  },
  {
   "cell_type": "code",
   "execution_count": 32,
   "id": "a43f1dfb",
   "metadata": {
    "scrolled": true
   },
   "outputs": [
    {
     "data": {
      "text/plain": [
       "array([[  8,   8],\n",
       "       [  2, 182]])"
      ]
     },
     "execution_count": 32,
     "metadata": {},
     "output_type": "execute_result"
    }
   ],
   "source": [
    "model1 = metrics.confusion_matrix(defective_ducks['actual'], defective_ducks['model1'])\n",
    "model1"
   ]
  },
  {
   "cell_type": "code",
   "execution_count": 42,
   "id": "638adb2d",
   "metadata": {},
   "outputs": [],
   "source": [
    "def cm_values(values):\n",
    "    TP = values[0][0]\n",
    "    TN = values[1][1]\n",
    "    FP = values[0][1]\n",
    "    FN = values[1][0]\n",
    "    print(f'TP value is {TP}\\nTN value is {TN}\\nFP value is {FP}\\nFN value is {FN}')\n",
    "    "
   ]
  },
  {
   "cell_type": "code",
   "execution_count": 43,
   "id": "5468ebc7",
   "metadata": {},
   "outputs": [
    {
     "name": "stdout",
     "output_type": "stream",
     "text": [
      "TP value is 8\n",
      "TN value is 182\n",
      "FP value is 8\n",
      "FN value is 2\n"
     ]
    }
   ],
   "source": [
    "cm_values(model1)"
   ]
  },
  {
   "cell_type": "code",
   "execution_count": 34,
   "id": "af9c0dab",
   "metadata": {},
   "outputs": [
    {
     "data": {
      "text/plain": [
       "array([[  9,   7],\n",
       "       [ 81, 103]])"
      ]
     },
     "execution_count": 34,
     "metadata": {},
     "output_type": "execute_result"
    }
   ],
   "source": [
    "model2 = metrics.confusion_matrix(defective_ducks['actual'], defective_ducks['model2'])\n",
    "model2"
   ]
  },
  {
   "cell_type": "code",
   "execution_count": 44,
   "id": "d678c0b5",
   "metadata": {},
   "outputs": [
    {
     "name": "stdout",
     "output_type": "stream",
     "text": [
      "TP value is 9\n",
      "TN value is 103\n",
      "FP value is 7\n",
      "FN value is 81\n"
     ]
    }
   ],
   "source": [
    "cm_values(model2)"
   ]
  },
  {
   "cell_type": "code",
   "execution_count": 33,
   "id": "eb67d0eb",
   "metadata": {
    "scrolled": true
   },
   "outputs": [
    {
     "data": {
      "text/plain": [
       "array([[13,  3],\n",
       "       [86, 98]])"
      ]
     },
     "execution_count": 33,
     "metadata": {},
     "output_type": "execute_result"
    }
   ],
   "source": [
    "model3 = metrics.confusion_matrix(defective_ducks['actual'], defective_ducks['model3'])\n",
    "model3"
   ]
  },
  {
   "cell_type": "code",
   "execution_count": 45,
   "id": "55329723",
   "metadata": {},
   "outputs": [
    {
     "name": "stdout",
     "output_type": "stream",
     "text": [
      "TP value is 13\n",
      "TN value is 98\n",
      "FP value is 3\n",
      "FN value is 86\n"
     ]
    }
   ],
   "source": [
    "cm_values(model3)"
   ]
  },
  {
   "cell_type": "code",
   "execution_count": 97,
   "id": "09f0daf5",
   "metadata": {
    "scrolled": true
   },
   "outputs": [
    {
     "name": "stdout",
     "output_type": "stream",
     "text": [
      "              precision    recall  f1-score   support\n",
      "\n",
      "      Defect       0.80      0.50      0.62        16\n",
      "   No Defect       0.96      0.99      0.97       184\n",
      "\n",
      "    accuracy                           0.95       200\n",
      "   macro avg       0.88      0.74      0.79       200\n",
      "weighted avg       0.95      0.95      0.94       200\n",
      "\n",
      "              precision    recall  f1-score   support\n",
      "\n",
      "      Defect       0.10      0.56      0.17        16\n",
      "   No Defect       0.94      0.56      0.70       184\n",
      "\n",
      "    accuracy                           0.56       200\n",
      "   macro avg       0.52      0.56      0.44       200\n",
      "weighted avg       0.87      0.56      0.66       200\n",
      "\n",
      "              precision    recall  f1-score   support\n",
      "\n",
      "      Defect       0.13      0.81      0.23        16\n",
      "   No Defect       0.97      0.53      0.69       184\n",
      "\n",
      "    accuracy                           0.56       200\n",
      "   macro avg       0.55      0.67      0.46       200\n",
      "weighted avg       0.90      0.56      0.65       200\n",
      "\n",
      "              precision    recall  f1-score   support\n",
      "\n",
      "      Defect       1.00      0.00      0.00        16\n",
      "   No Defect       0.92      1.00      0.96       184\n",
      "\n",
      "    accuracy                           0.92       200\n",
      "   macro avg       0.96      0.50      0.48       200\n",
      "weighted avg       0.93      0.92      0.88       200\n",
      "\n"
     ]
    }
   ],
   "source": [
    "models = ['model1', 'model2', 'model3', 'model_baseline']\n",
    "\n",
    "for model in models:\n",
    "    print(metrics.classification_report(defective_ducks['actual'], defective_ducks[model], zero_division=1))"
   ]
  },
  {
   "cell_type": "markdown",
   "id": "fe6ab86b",
   "metadata": {},
   "source": [
    "A: Model 3 has the highest recall (81%) so it is the best suited to this use case out of all available models."
   ]
  },
  {
   "cell_type": "markdown",
   "id": "f2d5e12f",
   "metadata": {},
   "source": [
    "### Recently several stories in the local news have come out highlighting customers who received a rubber duck with a defect, and portraying C3 in a bad light. The PR team has decided to launch a program that gives customers with a defective duck a vacation to Hawaii. They need you to predict which ducks will have defects, but tell you the really don't want to accidentally give out a vacation package when the duck really doesn't have a defect. Which evaluation metric would be appropriate here? Which model would be the best fit for this use case?"
   ]
  },
  {
   "cell_type": "markdown",
   "id": "0f3636f1",
   "metadata": {},
   "source": [
    "A: Since the stakeholders are primarily concerned with minimizing false positives (the positive case being predicting a defective duck) we should optimize our model's precision"
   ]
  },
  {
   "cell_type": "code",
   "execution_count": 73,
   "id": "7dee034d",
   "metadata": {},
   "outputs": [
    {
     "name": "stdout",
     "output_type": "stream",
     "text": [
      "\n",
      "model1 scores\n",
      "              precision    recall  f1-score   support\n",
      "\n",
      "      Defect       0.80      0.50      0.62        16\n",
      "   No Defect       0.96      0.99      0.97       184\n",
      "\n",
      "    accuracy                           0.95       200\n",
      "   macro avg       0.88      0.74      0.79       200\n",
      "weighted avg       0.95      0.95      0.94       200\n",
      "\n",
      "\n",
      "model2 scores\n",
      "              precision    recall  f1-score   support\n",
      "\n",
      "      Defect       0.10      0.56      0.17        16\n",
      "   No Defect       0.94      0.56      0.70       184\n",
      "\n",
      "    accuracy                           0.56       200\n",
      "   macro avg       0.52      0.56      0.44       200\n",
      "weighted avg       0.87      0.56      0.66       200\n",
      "\n",
      "\n",
      "model3 scores\n",
      "              precision    recall  f1-score   support\n",
      "\n",
      "      Defect       0.13      0.81      0.23        16\n",
      "   No Defect       0.97      0.53      0.69       184\n",
      "\n",
      "    accuracy                           0.56       200\n",
      "   macro avg       0.55      0.67      0.46       200\n",
      "weighted avg       0.90      0.56      0.65       200\n",
      "\n"
     ]
    }
   ],
   "source": [
    "models = ['model1', 'model2', 'model3']\n",
    "\n",
    "def c_reports(models, df):\n",
    "    for model in models:\n",
    "        print(f'\\n{model} scores')\n",
    "        print(metrics.classification_report(df['actual'], df[model]))\n",
    "        \n",
    "c_reports(models, defective_ducks)"
   ]
  },
  {
   "cell_type": "markdown",
   "id": "21d3265f",
   "metadata": {},
   "source": [
    "A: model 1 has the highest precision score so it is the best suited to our use case out of all available models"
   ]
  },
  {
   "cell_type": "markdown",
   "id": "3dd9e40b",
   "metadata": {},
   "source": [
    "### You are working as a data scientist for Gives You Paws ™, a subscription based service that shows you cute pictures of dogs or cats (or both for an additional fee)."
   ]
  },
  {
   "cell_type": "markdown",
   "id": "6d12557a",
   "metadata": {},
   "source": [
    "### At Gives You Paws, anyone can upload pictures of their cats or dogs. The photos are then put through a two step process. First an automated algorithm tags pictures as either a cat or a dog (Phase I). Next, the photos that have been initially identified are put through another round of review, possibly with some human oversight, before being presented to the users (Phase II)."
   ]
  },
  {
   "cell_type": "markdown",
   "id": "46d0b27e",
   "metadata": {},
   "source": [
    "### Several models have already been developed with the data, and you can find their results here."
   ]
  },
  {
   "cell_type": "code",
   "execution_count": 53,
   "id": "cd8de0e2",
   "metadata": {},
   "outputs": [
    {
     "data": {
      "text/html": [
       "<div>\n",
       "<style scoped>\n",
       "    .dataframe tbody tr th:only-of-type {\n",
       "        vertical-align: middle;\n",
       "    }\n",
       "\n",
       "    .dataframe tbody tr th {\n",
       "        vertical-align: top;\n",
       "    }\n",
       "\n",
       "    .dataframe thead th {\n",
       "        text-align: right;\n",
       "    }\n",
       "</style>\n",
       "<table border=\"1\" class=\"dataframe\">\n",
       "  <thead>\n",
       "    <tr style=\"text-align: right;\">\n",
       "      <th></th>\n",
       "      <th>actual</th>\n",
       "      <th>model1</th>\n",
       "      <th>model2</th>\n",
       "      <th>model3</th>\n",
       "      <th>model4</th>\n",
       "    </tr>\n",
       "  </thead>\n",
       "  <tbody>\n",
       "    <tr>\n",
       "      <th>0</th>\n",
       "      <td>cat</td>\n",
       "      <td>cat</td>\n",
       "      <td>dog</td>\n",
       "      <td>cat</td>\n",
       "      <td>dog</td>\n",
       "    </tr>\n",
       "    <tr>\n",
       "      <th>1</th>\n",
       "      <td>dog</td>\n",
       "      <td>dog</td>\n",
       "      <td>cat</td>\n",
       "      <td>cat</td>\n",
       "      <td>dog</td>\n",
       "    </tr>\n",
       "    <tr>\n",
       "      <th>2</th>\n",
       "      <td>dog</td>\n",
       "      <td>cat</td>\n",
       "      <td>cat</td>\n",
       "      <td>cat</td>\n",
       "      <td>dog</td>\n",
       "    </tr>\n",
       "  </tbody>\n",
       "</table>\n",
       "</div>"
      ],
      "text/plain": [
       "  actual model1 model2 model3 model4\n",
       "0    cat    cat    dog    cat    dog\n",
       "1    dog    dog    cat    cat    dog\n",
       "2    dog    cat    cat    cat    dog"
      ]
     },
     "execution_count": 53,
     "metadata": {},
     "output_type": "execute_result"
    }
   ],
   "source": [
    "gives_you_paws = pd.read_csv('~/Downloads/gives_you_paws.csv')\n",
    "gives_you_paws.head(3)"
   ]
  },
  {
   "cell_type": "code",
   "execution_count": 81,
   "id": "bb9bea78",
   "metadata": {
    "scrolled": true
   },
   "outputs": [
    {
     "name": "stdout",
     "output_type": "stream",
     "text": [
      "['cat' 'dog']\n",
      "['cat' 'dog']\n",
      "['dog' 'cat']\n",
      "['cat' 'dog']\n",
      "['dog' 'cat']\n"
     ]
    }
   ],
   "source": [
    "for model in ['actual', 'model1', 'model2', 'model3', 'model4']:\n",
    "    print(gives_you_paws[model].unique())\n"
   ]
  },
  {
   "cell_type": "code",
   "execution_count": 84,
   "id": "4d2f8517",
   "metadata": {},
   "outputs": [
    {
     "name": "stdout",
     "output_type": "stream",
     "text": [
      "0\n",
      "0\n",
      "0\n",
      "0\n",
      "0\n"
     ]
    }
   ],
   "source": [
    "for model in ['actual', 'model1', 'model2', 'model3', 'model4']:\n",
    "    print(gives_you_paws[model].isnull().sum())\n"
   ]
  },
  {
   "cell_type": "markdown",
   "id": "66125904",
   "metadata": {},
   "source": [
    "### Given this dataset, use pandas to create a baseline model (i.e. a model that just predicts the most common class) and answer the following questions:"
   ]
  },
  {
   "cell_type": "code",
   "execution_count": 56,
   "id": "881967a2",
   "metadata": {},
   "outputs": [
    {
     "data": {
      "text/html": [
       "<div>\n",
       "<style scoped>\n",
       "    .dataframe tbody tr th:only-of-type {\n",
       "        vertical-align: middle;\n",
       "    }\n",
       "\n",
       "    .dataframe tbody tr th {\n",
       "        vertical-align: top;\n",
       "    }\n",
       "\n",
       "    .dataframe thead th {\n",
       "        text-align: right;\n",
       "    }\n",
       "</style>\n",
       "<table border=\"1\" class=\"dataframe\">\n",
       "  <thead>\n",
       "    <tr style=\"text-align: right;\">\n",
       "      <th></th>\n",
       "      <th>actual</th>\n",
       "      <th>model1</th>\n",
       "      <th>model2</th>\n",
       "      <th>model3</th>\n",
       "      <th>model4</th>\n",
       "      <th>model_baseline</th>\n",
       "    </tr>\n",
       "  </thead>\n",
       "  <tbody>\n",
       "    <tr>\n",
       "      <th>0</th>\n",
       "      <td>cat</td>\n",
       "      <td>cat</td>\n",
       "      <td>dog</td>\n",
       "      <td>cat</td>\n",
       "      <td>dog</td>\n",
       "      <td>dog</td>\n",
       "    </tr>\n",
       "    <tr>\n",
       "      <th>1</th>\n",
       "      <td>dog</td>\n",
       "      <td>dog</td>\n",
       "      <td>cat</td>\n",
       "      <td>cat</td>\n",
       "      <td>dog</td>\n",
       "      <td>dog</td>\n",
       "    </tr>\n",
       "    <tr>\n",
       "      <th>2</th>\n",
       "      <td>dog</td>\n",
       "      <td>cat</td>\n",
       "      <td>cat</td>\n",
       "      <td>cat</td>\n",
       "      <td>dog</td>\n",
       "      <td>dog</td>\n",
       "    </tr>\n",
       "  </tbody>\n",
       "</table>\n",
       "</div>"
      ],
      "text/plain": [
       "  actual model1 model2 model3 model4 model_baseline\n",
       "0    cat    cat    dog    cat    dog            dog\n",
       "1    dog    dog    cat    cat    dog            dog\n",
       "2    dog    cat    cat    cat    dog            dog"
      ]
     },
     "execution_count": 56,
     "metadata": {},
     "output_type": "execute_result"
    }
   ],
   "source": [
    "get_baseline_model(gives_you_paws, 'actual').head(3)"
   ]
  },
  {
   "cell_type": "markdown",
   "id": "f5214df8",
   "metadata": {},
   "source": [
    "### In terms of accuracy, how do the various models compare to the baseline model? Are any of the models better than the baseline?"
   ]
  },
  {
   "cell_type": "code",
   "execution_count": 76,
   "id": "de2d622b",
   "metadata": {
    "scrolled": true
   },
   "outputs": [
    {
     "name": "stdout",
     "output_type": "stream",
     "text": [
      "\n",
      "model1 scores\n",
      "              precision    recall  f1-score   support\n",
      "\n",
      "         cat       0.69      0.82      0.75      1746\n",
      "         dog       0.89      0.80      0.84      3254\n",
      "\n",
      "    accuracy                           0.81      5000\n",
      "   macro avg       0.79      0.81      0.80      5000\n",
      "weighted avg       0.82      0.81      0.81      5000\n",
      "\n",
      "\n",
      "model2 scores\n",
      "              precision    recall  f1-score   support\n",
      "\n",
      "         cat       0.48      0.89      0.63      1746\n",
      "         dog       0.89      0.49      0.63      3254\n",
      "\n",
      "    accuracy                           0.63      5000\n",
      "   macro avg       0.69      0.69      0.63      5000\n",
      "weighted avg       0.75      0.63      0.63      5000\n",
      "\n",
      "\n",
      "model3 scores\n",
      "              precision    recall  f1-score   support\n",
      "\n",
      "         cat       0.36      0.51      0.42      1746\n",
      "         dog       0.66      0.51      0.57      3254\n",
      "\n",
      "    accuracy                           0.51      5000\n",
      "   macro avg       0.51      0.51      0.50      5000\n",
      "weighted avg       0.55      0.51      0.52      5000\n",
      "\n",
      "\n",
      "model4 scores\n",
      "              precision    recall  f1-score   support\n",
      "\n",
      "         cat       0.81      0.35      0.48      1746\n",
      "         dog       0.73      0.96      0.83      3254\n",
      "\n",
      "    accuracy                           0.74      5000\n",
      "   macro avg       0.77      0.65      0.66      5000\n",
      "weighted avg       0.76      0.74      0.71      5000\n",
      "\n",
      "\n",
      "model_baseline scores\n",
      "              precision    recall  f1-score   support\n",
      "\n",
      "         cat       0.00      0.00      0.00      1746\n",
      "         dog       0.65      1.00      0.79      3254\n",
      "\n",
      "    accuracy                           0.65      5000\n",
      "   macro avg       0.33      0.50      0.39      5000\n",
      "weighted avg       0.42      0.65      0.51      5000\n",
      "\n"
     ]
    },
    {
     "name": "stderr",
     "output_type": "stream",
     "text": [
      "/opt/homebrew/anaconda3/lib/python3.10/site-packages/sklearn/metrics/_classification.py:1344: UndefinedMetricWarning: Precision and F-score are ill-defined and being set to 0.0 in labels with no predicted samples. Use `zero_division` parameter to control this behavior.\n",
      "  _warn_prf(average, modifier, msg_start, len(result))\n",
      "/opt/homebrew/anaconda3/lib/python3.10/site-packages/sklearn/metrics/_classification.py:1344: UndefinedMetricWarning: Precision and F-score are ill-defined and being set to 0.0 in labels with no predicted samples. Use `zero_division` parameter to control this behavior.\n",
      "  _warn_prf(average, modifier, msg_start, len(result))\n",
      "/opt/homebrew/anaconda3/lib/python3.10/site-packages/sklearn/metrics/_classification.py:1344: UndefinedMetricWarning: Precision and F-score are ill-defined and being set to 0.0 in labels with no predicted samples. Use `zero_division` parameter to control this behavior.\n",
      "  _warn_prf(average, modifier, msg_start, len(result))\n"
     ]
    }
   ],
   "source": [
    "models = ['model1', 'model2', 'model3', 'model4', 'model_baseline']\n",
    "\n",
    "c_reports(models, gives_you_paws)"
   ]
  },
  {
   "cell_type": "markdown",
   "id": "76963ac5",
   "metadata": {},
   "source": [
    "A: Our baseline model accuracy is 65%. Model1 performs with an 81% accuracy, making it the highest performing model overall so it is the best suited in terms of accuracy."
   ]
  },
  {
   "cell_type": "markdown",
   "id": "c774622e",
   "metadata": {},
   "source": [
    "### Suppose you are working on a team that solely deals with dog pictures. Which of these models would you recommend?"
   ]
  },
  {
   "cell_type": "markdown",
   "id": "bedef26f",
   "metadata": {},
   "source": [
    "A: I would also recommend model2 to a team that just works with dog pictures because it has the highest recall in the context of identifying dogs (94%). This will make sure they get as many dogs as possible in their dataset, any false positives could be manually removed."
   ]
  },
  {
   "cell_type": "markdown",
   "id": "887ef333",
   "metadata": {},
   "source": [
    "### Suppose you are working on a team that solely deals with cat pictures. Which of these models would you recommend?"
   ]
  },
  {
   "cell_type": "markdown",
   "id": "15b75cd9",
   "metadata": {},
   "source": [
    "A: I would also recommend model4 to a team that just works with dog pictures because it has the highest recall in the context of identifying cats (89%). This will make sure they get as many cat pictures as possible in their dataset, any false positives could be manually removed."
   ]
  },
  {
   "cell_type": "markdown",
   "id": "bc9ec817",
   "metadata": {},
   "source": [
    "### Follow the links below to read the documentation about each function, then apply those functions to the data from the previous problem."
   ]
  },
  {
   "cell_type": "markdown",
   "id": "0b07ea9a",
   "metadata": {},
   "source": [
    "sklearn.metrics.accuracy_score"
   ]
  },
  {
   "cell_type": "code",
   "execution_count": 86,
   "id": "9488e814",
   "metadata": {},
   "outputs": [
    {
     "name": "stdout",
     "output_type": "stream",
     "text": [
      "0.8074\n",
      "0.6304\n",
      "0.5096\n",
      "0.7426\n",
      "0.6508\n"
     ]
    }
   ],
   "source": [
    "for model in models:\n",
    "    print(metrics.accuracy_score(gives_you_paws['actual'], gives_you_paws[model]))"
   ]
  },
  {
   "cell_type": "markdown",
   "id": "8f018074",
   "metadata": {},
   "source": [
    "sklearn.metrics.precision_score"
   ]
  },
  {
   "cell_type": "code",
   "execution_count": 94,
   "id": "edc6fd95",
   "metadata": {},
   "outputs": [
    {
     "name": "stdout",
     "output_type": "stream",
     "text": [
      "0.8900238338440586\n",
      "0.8931767337807607\n",
      "0.6598883572567783\n",
      "0.7312485304490948\n",
      "0.6508\n"
     ]
    }
   ],
   "source": [
    "for model in models:\n",
    "    print(metrics.precision_score(gives_you_paws['actual'], gives_you_paws[model], pos_label='dog'))"
   ]
  },
  {
   "cell_type": "markdown",
   "id": "a028f54d",
   "metadata": {},
   "source": [
    "sklearn.metrics.recall_score"
   ]
  },
  {
   "cell_type": "code",
   "execution_count": 91,
   "id": "48a1cd76",
   "metadata": {},
   "outputs": [
    {
     "name": "stdout",
     "output_type": "stream",
     "text": [
      "0.803318992009834\n",
      "0.49078057775046097\n",
      "0.5086047940995697\n",
      "0.9557467732022127\n",
      "1.0\n"
     ]
    }
   ],
   "source": [
    "for model in models:\n",
    "    print(metrics.recall_score(gives_you_paws['actual'], gives_you_paws[model], pos_label='dog'))"
   ]
  },
  {
   "cell_type": "markdown",
   "id": "6511f872",
   "metadata": {},
   "source": [
    "sklearn.metrics.classification_report"
   ]
  },
  {
   "cell_type": "code",
   "execution_count": 93,
   "id": "f5ea1056",
   "metadata": {},
   "outputs": [
    {
     "name": "stdout",
     "output_type": "stream",
     "text": [
      "              precision    recall  f1-score   support\n",
      "\n",
      "         cat       0.69      0.82      0.75      1746\n",
      "         dog       0.89      0.80      0.84      3254\n",
      "\n",
      "    accuracy                           0.81      5000\n",
      "   macro avg       0.79      0.81      0.80      5000\n",
      "weighted avg       0.82      0.81      0.81      5000\n",
      "\n",
      "              precision    recall  f1-score   support\n",
      "\n",
      "         cat       0.48      0.89      0.63      1746\n",
      "         dog       0.89      0.49      0.63      3254\n",
      "\n",
      "    accuracy                           0.63      5000\n",
      "   macro avg       0.69      0.69      0.63      5000\n",
      "weighted avg       0.75      0.63      0.63      5000\n",
      "\n",
      "              precision    recall  f1-score   support\n",
      "\n",
      "         cat       0.36      0.51      0.42      1746\n",
      "         dog       0.66      0.51      0.57      3254\n",
      "\n",
      "    accuracy                           0.51      5000\n",
      "   macro avg       0.51      0.51      0.50      5000\n",
      "weighted avg       0.55      0.51      0.52      5000\n",
      "\n",
      "              precision    recall  f1-score   support\n",
      "\n",
      "         cat       0.81      0.35      0.48      1746\n",
      "         dog       0.73      0.96      0.83      3254\n",
      "\n",
      "    accuracy                           0.74      5000\n",
      "   macro avg       0.77      0.65      0.66      5000\n",
      "weighted avg       0.76      0.74      0.71      5000\n",
      "\n",
      "              precision    recall  f1-score   support\n",
      "\n",
      "         cat       0.00      0.00      0.00      1746\n",
      "         dog       0.65      1.00      0.79      3254\n",
      "\n",
      "    accuracy                           0.65      5000\n",
      "   macro avg       0.33      0.50      0.39      5000\n",
      "weighted avg       0.42      0.65      0.51      5000\n",
      "\n"
     ]
    },
    {
     "name": "stderr",
     "output_type": "stream",
     "text": [
      "/opt/homebrew/anaconda3/lib/python3.10/site-packages/sklearn/metrics/_classification.py:1344: UndefinedMetricWarning: Precision and F-score are ill-defined and being set to 0.0 in labels with no predicted samples. Use `zero_division` parameter to control this behavior.\n",
      "  _warn_prf(average, modifier, msg_start, len(result))\n",
      "/opt/homebrew/anaconda3/lib/python3.10/site-packages/sklearn/metrics/_classification.py:1344: UndefinedMetricWarning: Precision and F-score are ill-defined and being set to 0.0 in labels with no predicted samples. Use `zero_division` parameter to control this behavior.\n",
      "  _warn_prf(average, modifier, msg_start, len(result))\n",
      "/opt/homebrew/anaconda3/lib/python3.10/site-packages/sklearn/metrics/_classification.py:1344: UndefinedMetricWarning: Precision and F-score are ill-defined and being set to 0.0 in labels with no predicted samples. Use `zero_division` parameter to control this behavior.\n",
      "  _warn_prf(average, modifier, msg_start, len(result))\n"
     ]
    }
   ],
   "source": [
    "for model in models:\n",
    "    print(metrics.classification_report(gives_you_paws['actual'], gives_you_paws[model]))"
   ]
  }
 ],
 "metadata": {
  "kernelspec": {
   "display_name": "Python 3 (ipykernel)",
   "language": "python",
   "name": "python3"
  },
  "language_info": {
   "codemirror_mode": {
    "name": "ipython",
    "version": 3
   },
   "file_extension": ".py",
   "mimetype": "text/x-python",
   "name": "python",
   "nbconvert_exporter": "python",
   "pygments_lexer": "ipython3",
   "version": "3.10.9"
  }
 },
 "nbformat": 4,
 "nbformat_minor": 5
}
